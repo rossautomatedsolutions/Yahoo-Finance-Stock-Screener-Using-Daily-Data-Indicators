{
 "cells": [
  {
   "cell_type": "markdown",
   "id": "d8642c2b",
   "metadata": {},
   "source": [
    "# Yahoo Finance Stock Screener Using Daily Data & Indicators"
   ]
  },
  {
   "cell_type": "markdown",
   "id": "2a5e4859",
   "metadata": {},
   "source": [
    "## Uses the following indicators\n",
    "* SMA: https://www.investopedia.com/terms/s/sma.asp\n",
    "* RSI: https://www.investopedia.com/terms/r/rsi.asp\n",
    "* Bollinger Bands: https://www.investopedia.com/articles/technical/102201.asp & https://www.investopedia.com/trading/using-bollinger-bands-to-gauge-trends/"
   ]
  },
  {
   "cell_type": "markdown",
   "id": "3d694bc0",
   "metadata": {},
   "source": [
    "## Overview \n",
    "* Process will pull OHLC data from yahoo finance for a few tickers\n",
    "* Based on the idicators Buy, Sell, Neutral signals will be generated for the day"
   ]
  },
  {
   "cell_type": "markdown",
   "id": "5ba35a3b",
   "metadata": {},
   "source": [
    "### Get OHLC data from yahoo finance and turn into dataframe"
   ]
  },
  {
   "cell_type": "code",
   "execution_count": 1,
   "id": "a02d0366",
   "metadata": {},
   "outputs": [],
   "source": [
    "# import libraries\n",
    "import yfinance as yf\n",
    "import pandas as pd\n",
    "from datetime import datetime, timedelta"
   ]
  },
  {
   "cell_type": "code",
   "execution_count": null,
   "id": "4752ef57",
   "metadata": {},
   "outputs": [
    {
     "name": "stdout",
     "output_type": "stream",
     "text": [
      "[*********************100%***********************]  1 of 1 completed\n",
      "[*********************100%***********************]  1 of 1 completed\n",
      "[*********************100%***********************]  1 of 1 completed\n"
     ]
    }
   ],
   "source": [
    "# Define the symbols and date range\n",
    "symbols = ['MMM', 'AAPL', 'GOOGL']  # Example list of symbols\n",
    "start_date = '2022-12-01'\n",
    "\n",
    "# Get the current date\n",
    "current_date = datetime.today()\n",
    "end_date = (current_date - timedelta(days=1)).strftime('%Y-%m-%d')\n",
    "\n",
    "# Create an empty list to store the results\n",
    "results = []\n",
    "\n",
    "# Loop over each symbol\n",
    "for symbol in symbols:\n",
    "    # Fetch OHLC data from Yahoo Finance\n",
    "    data = yf.download(symbol, start=start_date, end=end_date)\n",
    "\n",
    "    # Calculate SMA\n",
    "    period = 20\n",
    "    data['SMA'] = data['Close'].rolling(window=period, min_periods=20).mean().shift(1)\n",
    "\n",
    "    # Calculate RSI\n",
    "    delta = data['Close'].diff()\n",
    "    gain = delta.where(delta > 0, 0)\n",
    "    loss = -delta.where(delta < 0, 0)\n",
    "    avg_gain = gain.rolling(window=period).mean().shift(1)\n",
    "    avg_loss = loss.rolling(window=period).mean().shift(1)\n",
    "    relative_strength = avg_gain / avg_loss\n",
    "    data['RSI'] = 100 - (100 / (1 + relative_strength))\n",
    "\n",
    "    # Calculate Bollinger Bands\n",
    "    std_dev = data['Close'].rolling(window=period).std().shift(1)\n",
    "    data['Upper Band'] = data['SMA'] + 2 * std_dev\n",
    "    data['Middle Band'] = data['SMA']\n",
    "    data['Lower Band'] = data['SMA'] - 2 * std_dev\n",
    "\n",
    "    # Calculate Signal columns\n",
    "    data['SMA Signal'] = ''\n",
    "    data['RSI Signal'] = ''\n",
    "    data['BB Signal'] = ''\n",
    "\n",
    "    data.loc[data['SMA'] > data['Close'], 'SMA Signal'] = 'Sell'\n",
    "    data.loc[data['SMA'] < data['Close'], 'SMA Signal'] = 'Buy'\n",
    "    data.loc[data['SMA'] == data['Close'], 'SMA Signal'] = 'Neutral'\n",
    "\n",
    "    data.loc[data['RSI'] > 70, 'RSI Signal'] = 'Sell'\n",
    "    data.loc[data['RSI'] < 30, 'RSI Signal'] = 'Buy'\n",
    "    data.loc[(data['RSI'] >= 30) & (data['RSI'] <= 70), 'RSI Signal'] = 'Neutral'\n",
    "\n",
    "    data.loc[(data['Close'] < data['Lower Band']) & (data['RSI'] < 30), 'BB Signal'] = 'Buy'\n",
    "    data.loc[(data['Close'] > data['Upper Band']) & (data['RSI'] > 70), 'BB Signal'] = 'Sell'\n",
    "    data.loc[((data['Close'] >= data['Lower Band']) & (data['Close'] <= data['Middle Band'])) | ((data['Close'] <= data['Upper Band']) & (data['Close'] >= data['Middle Band'])), 'BB Signal'] = 'Neutral'\n",
    "\n",
    "    # Calculate Buy, Sell, and Neutral Signal counts\n",
    "    data['Buy Signal'] = (data['SMA Signal'] == 'Buy').astype(int) + (data['RSI Signal'] == 'Buy').astype(int) + (data['BB Signal'] == 'Buy').astype(int)\n",
    "    data['Sell Signal'] = (data['SMA Signal'] == 'Sell').astype(int) + (data['RSI Signal'] == 'Sell').astype(int) + (data['BB Signal'] == 'Sell').astype(int)\n",
    "    data['Neutral Signal'] = (data['SMA Signal'] == 'Neutral').astype(int) + (data['RSI Signal'] == 'Neutral').astype(int) + (data['BB Signal'] == 'Neutral').astype(int)\n",
    "\n",
    "    # Add the symbol and its data to the results list\n",
    "    results.append({'Symbol': symbol, 'Data': data})\n",
    "\n",
    "# Convert results to dataframes\n",
    "dataframes = []\n",
    "for result in results:\n",
    "    symbol = result['Symbol']\n",
    "    data = result['Data']\n",
    "    dataframe = pd.DataFrame(data)\n",
    "    dataframe['Symbol'] = symbol\n",
    "    dataframes.append(dataframe)\n",
    "\n",
    "# Combine all dataframes into a single dataframe\n",
    "combined_dataframe = pd.concat(dataframes)\n",
    "\n",
    "# Sort by Symbol and then Date descending\n",
    "combined_dataframe.sort_values(by=['Symbol', 'Date'], ascending=[True, False], inplace=True)\n",
    "\n",
    "# Display the combined dataframe\n",
    "combined_dataframe.head()\n"
   ]
  },
  {
   "cell_type": "markdown",
   "id": "45f894be",
   "metadata": {},
   "source": [
    "### Take the above data frame and show the 5 most recent days per symbol"
   ]
  },
  {
   "cell_type": "code",
   "execution_count": null,
   "id": "63cc4fe7",
   "metadata": {},
   "outputs": [],
   "source": [
    "# Sort the combined_dataframe by 'Symbol' and 'Date'\n",
    "sorted_dataframe = combined_dataframe.sort_values(by=['Symbol', 'Date'], ascending=[True, False])\n",
    "\n",
    "# Extract the most recent 5 days of data per ticker\n",
    "grouped_dataframe = sorted_dataframe.groupby('Symbol').head(5)\n",
    "\n",
    "print(\"Most recent 5 days of data per ticker:\")\n",
    "grouped_dataframe\n"
   ]
  }
 ],
 "metadata": {
  "kernelspec": {
   "display_name": "Python 3 (ipykernel)",
   "language": "python",
   "name": "python3"
  },
  "language_info": {
   "codemirror_mode": {
    "name": "ipython",
    "version": 3
   },
   "file_extension": ".py",
   "mimetype": "text/x-python",
   "name": "python",
   "nbconvert_exporter": "python",
   "pygments_lexer": "ipython3",
   "version": "3.10.9"
  }
 },
 "nbformat": 4,
 "nbformat_minor": 5
}
